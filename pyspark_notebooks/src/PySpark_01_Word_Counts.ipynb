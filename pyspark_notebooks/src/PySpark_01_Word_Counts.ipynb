{
  "nbformat": 4,
  "nbformat_minor": 0,
  "metadata": {
    "colab": {
      "provenance": []
    },
    "kernelspec": {
      "name": "python3",
      "display_name": "Python 3"
    },
    "language_info": {
      "name": "python"
    }
  },
  "cells": [
    {
      "cell_type": "code",
      "execution_count": 18,
      "metadata": {
        "id": "iaatmvBiauyw"
      },
      "outputs": [],
      "source": [
        "# Install Dependencies:\n",
        "!apt-get install openjdk-8-jdk-headless -qq > /dev/null\n",
        "!wget -q http://archive.apache.org/dist/spark/spark-3.1.1/spark-3.1.1-bin-hadoop3.2.tgz\n",
        "!tar xf spark-3.1.1-bin-hadoop3.2.tgz\n",
        "!pip install -q findspark"
      ]
    },
    {
      "cell_type": "code",
      "source": [
        "# Set Environment Variables:\n",
        "import os\n",
        "os.environ[\"JAVA_HOME\"] = \"/usr/lib/jvm/java-8-openjdk-amd64\"\n",
        "os.environ[\"SPARK_HOME\"] = \"/content/spark-3.1.1-bin-hadoop3.2\""
      ],
      "metadata": {
        "id": "mVGT02cqbHW7"
      },
      "execution_count": 19,
      "outputs": []
    },
    {
      "cell_type": "code",
      "source": [
        "ls\n"
      ],
      "metadata": {
        "colab": {
          "base_uri": "https://localhost:8080/"
        },
        "id": "9s8bTnzIbJbV",
        "outputId": "f82a1194-2f4d-4be9-8e12-7af3e842fef3"
      },
      "execution_count": null,
      "outputs": [
        {
          "output_type": "stream",
          "name": "stdout",
          "text": [
            "\u001b[0m\u001b[01;34msample_data\u001b[0m/  \u001b[01;34mspark-3.1.1-bin-hadoop3.2\u001b[0m/  spark-3.1.1-bin-hadoop3.2.tgz\n"
          ]
        }
      ]
    },
    {
      "cell_type": "code",
      "source": [
        "import findspark\n",
        "findspark.init()\n",
        "from pyspark.sql import SparkSession\n",
        "\n",
        "# create spark session\n",
        "spark = SparkSession.builder.master(\"local[*]\").appName(\"FirstProgram\").getOrCreate()\n",
        "\n",
        "# create spark context\n",
        "sc = spark.sparkContext\n"
      ],
      "metadata": {
        "id": "j-7EEOqkbOO6"
      },
      "execution_count": 20,
      "outputs": []
    },
    {
      "cell_type": "code",
      "source": [
        "# read file - return pyspark.rdd.RDD\n",
        "text_file = sc.textFile(\"/content/sample_data/test_file.txt\")\n",
        "\n",
        "#Note that here \"text_file\" is a RDD and we used \"map\", \"flatmap\", \"reducebykey\" transformations\n",
        "counts = text_file.flatMap(lambda line: line.split(\" \")).map(lambda word:(word, 1)).reduceByKey(lambda x, y : x+y)\n"
      ],
      "metadata": {
        "id": "85EYir4hcXzy"
      },
      "execution_count": 21,
      "outputs": []
    },
    {
      "cell_type": "code",
      "source": [
        "# collect is an action that we used to gather the required output.\n",
        "output = counts.collect()\n",
        "print(f\"count.collect() = {output}\")\n",
        "\n",
        "# Printing each word with its respective count\n",
        "for (word, count) in output:\n",
        "  # get specific words counts\n",
        "  if word in['the', 'is']:\n",
        "    print(f\" the word = {word}, count={count}\")\n",
        "\n",
        "\n"
      ],
      "metadata": {
        "colab": {
          "base_uri": "https://localhost:8080/"
        },
        "id": "4HGpb7XucQCj",
        "outputId": "8c9a2850-dc5e-479c-d26f-ee855fabb216"
      },
      "execution_count": 26,
      "outputs": [
        {
          "output_type": "stream",
          "name": "stdout",
          "text": [
            "count.collect() = [('Finally,', 1), ('an', 2), ('action', 2), ('result', 1), ('', 2), ('Use', 1), ('below', 1), ('snippet', 1), ('do', 1), ('is', 1), ('we', 1), ('used', 1), ('gather', 1), ('initiate', 1), ('to', 3), ('collect', 2), ('the', 3), ('final', 1), ('and', 2), ('print.', 1), ('it', 1), ('Here', 1), ('that', 1), ('required', 1), ('output.', 1)]\n",
            " the word = is, count=1\n",
            " the word = the, count=3\n"
          ]
        }
      ]
    },
    {
      "cell_type": "code",
      "source": [
        "# Stopping Spark-Session and Spark context\n",
        "sc.stop()\n",
        "spark.stop()"
      ],
      "metadata": {
        "id": "t6lP3CCxgdPi"
      },
      "execution_count": 28,
      "outputs": []
    }
  ]
}